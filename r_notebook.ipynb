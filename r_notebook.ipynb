{
  "cells": [
    {
      "cell_type": "markdown",
      "metadata": {},
      "source": [
        "# R Notebook Example\n",
        "\n",
        "This notebook demonstrates basic R functionality including data manipulation, visualization, and statistical analysis.\n"
      ]
    },
    {
      "cell_type": "code",
      "execution_count": null,
      "metadata": {
        "vscode": {
          "languageId": "r"
        }
      },
      "outputs": [],
      "source": [
        "# Basic R operations\n",
        "print(\"Hello from R!\")\n",
        "\n",
        "# Create a vector\n",
        "numbers <- c(1, 2, 3, 4, 5, 6, 7, 8, 9, 10)\n",
        "print(paste(\"Sum:\", sum(numbers)))\n",
        "print(paste(\"Mean:\", mean(numbers)))\n",
        "print(paste(\"Median:\", median(numbers)))\n"
      ]
    },
    {
      "cell_type": "code",
      "execution_count": null,
      "metadata": {
        "vscode": {
          "languageId": "r"
        }
      },
      "outputs": [],
      "source": [
        "# Create a data frame\n",
        "df <- data.frame(\n",
        "  name = c(\"Alice\", \"Bob\", \"Charlie\", \"David\", \"Eve\"),\n",
        "  age = c(25, 30, 35, 40, 28),\n",
        "  score = c(85, 92, 78, 95, 88)\n",
        ")\n",
        "\n",
        "print(df)\n",
        "print(paste(\"Average age:\", mean(df$age)))\n",
        "print(paste(\"Average score:\", mean(df$score)))\n"
      ]
    },
    {
      "cell_type": "code",
      "execution_count": null,
      "metadata": {
        "vscode": {
          "languageId": "r"
        }
      },
      "outputs": [],
      "source": [
        "# Simple visualization with base R\n",
        "x <- seq(1, 10, by = 0.1)\n",
        "y <- sin(x)\n",
        "\n",
        "plot(x, y, type = \"l\", col = \"blue\", lwd = 2,\n",
        "     main = \"Sine Wave\",\n",
        "     xlab = \"x\",\n",
        "     ylab = \"sin(x)\")\n"
      ]
    },
    {
      "cell_type": "code",
      "execution_count": null,
      "metadata": {
        "vscode": {
          "languageId": "r"
        }
      },
      "outputs": [],
      "source": [
        "# Statistical analysis\n",
        "# Generate some random data\n",
        "set.seed(42)\n",
        "data <- rnorm(100, mean = 50, sd = 10)\n",
        "\n",
        "# Summary statistics\n",
        "summary(data)\n",
        "\n",
        "# Create a histogram\n",
        "hist(data, \n",
        "     col = \"lightblue\", \n",
        "     main = \"Distribution of Random Data\",\n",
        "     xlab = \"Value\",\n",
        "     breaks = 20)\n"
      ]
    },
    {
      "cell_type": "markdown",
      "metadata": {},
      "source": [
        "## Advanced Example: Linear Regression\n",
        "\n",
        "Let's perform a simple linear regression analysis.\n"
      ]
    },
    {
      "cell_type": "code",
      "execution_count": null,
      "metadata": {
        "vscode": {
          "languageId": "r"
        }
      },
      "outputs": [],
      "source": [
        "# Linear regression example\n",
        "set.seed(123)\n",
        "x_data <- 1:50\n",
        "y_data <- 2 * x_data + rnorm(50, mean = 0, sd = 10)\n",
        "\n",
        "# Fit the model\n",
        "model <- lm(y_data ~ x_data)\n",
        "print(summary(model))\n",
        "\n",
        "# Plot the data and regression line\n",
        "plot(x_data, y_data, \n",
        "     main = \"Linear Regression Example\",\n",
        "     xlab = \"X\", \n",
        "     ylab = \"Y\",\n",
        "     pch = 19)\n",
        "abline(model, col = \"red\", lwd = 2)\n",
        "legend(\"topleft\", legend = \"Regression Line\", col = \"red\", lwd = 2)\n"
      ]
    }
  ],
  "metadata": {
    "language_info": {
      "name": "python"
    }
  },
  "nbformat": 4,
  "nbformat_minor": 2
}
